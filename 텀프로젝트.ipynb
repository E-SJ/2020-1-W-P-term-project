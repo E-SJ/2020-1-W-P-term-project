{
 "cells": [
  {
   "cell_type": "markdown",
   "metadata": {},
   "source": [
    "# 0) 주제: 코로나 19와 대중교통 이용량의 상관관계를 분석한다."
   ]
  },
  {
   "cell_type": "markdown",
   "metadata": {},
   "source": [
    "1) 프로젝트 목표 및 내용: \n",
    "\n",
    "지하철 이용량, 버스 이용량, 입국자 수, 출국자 수 등과 같은 인구 이동에 관련된 통계와 코로나 19 확진자, 완치자, 사망자, 치사율 등 코로나 19와 관련된 통계를 분석하여 코로나 19 사태 이전과 이후의 교통 이용량을 비교한다. 각 교통 수치들이 코로나 19의 진행에 얼마나 영향을 끼쳤으며 반대로 이 코로나 19가 이 수치들에 어떠한 영향을 미쳤는지를 파악한다. "
   ]
  },
  {
   "cell_type": "markdown",
   "metadata": {},
   "source": [
    "2) 주제 선정 이유 또는 이 프로젝트의 필요성: \n",
    "\n",
    "코로나19이후 사회적 거리두기 운동의 효과가 어느정도 대중교통 이용량의 변화를 이끌었을텐데, 이 변화량이 구체적으로 얼마나 되는지 알고 싶었다. 또한 이 전염병이 점점 진화되어가는만큼, 대중교통 이용량의 감소가 확진자 증가율 감소에 얼만큼 효과가 있었는지 파악코자 하였다. 그렇게 하여 파악된 결과를 통해 미래의 전염병 확산시에 '대중교통 이용량에 따른 전염병 진행속도'와 '전염병이 시민들의 대중교통 이용량에 미칠 결과' 등을 예측하여 미래에 전염병을 더 잘 대비하고 극복할 수 있도록 함을 목적으로 한다.\n",
    "\n",
    "※교통 이용량에서 대중교통 이용량으로 주제를 세부화 시켰는데, 밀집되어서 이동하는 대중교통이 아닌 일반 교통 이용(+택시)은 사회적 거리 두기 운동과 큰 관련이 없으며 이동자체에 타인과의 접촉이 거의 없으므로 유의미한 결과가 나오지 않을 거라 생각하여 제외하였다. 또한 국내 대중교통 이용량은 해외 COVID 현황에 큰 영향을 미치지 않으므로 국내로 제한하기로 하였다. 해외 데이터는 오로지 비교용으로만 참조한다.※"
   ]
  },
  {
   "cell_type": "markdown",
   "metadata": {},
   "source": [
    "3) 데이터 획득: ※서울 또는 경기도 지역 외의 교통 이용량은 확인이 어려워 수도권 지역의 대중교통 이용량으로 일반화 하여 사용한다.※\n",
    "\n",
    "- 지하철 월별 - https://data.seoul.go.kr/dataList/OA-12914/S/1/datasetView.do (서울 열린데이터 광장)\n",
    "- 지하철 일별 - https://data.seoul.go.kr/dataList/OA-12914/S/1/datasetView.do (서울 열린데이터 광장)\n",
    "- 버스 월별 - https://data.seoul.go.kr/dataList/OA-12913/S/1/datasetView.do (서울 열린데이터 광장)\n",
    "- 버스 일별 - https://data.seoul.go.kr/dataList/OA-12912/S/1/datasetView.do (서울 열린데이터 광장)\n",
    "- 출입국 월별 - https://www.data.go.kr/iim/api/selectAPIAcountView.do (공공데이터포털/한국문화관광연구원) - 사이트 점검으로 인해 작동이 불안정\n",
    "- 국내 COVID-19 일별 - https://www.data.go.kr/tcs/dss/selectApiDataDetailView.do?publicDataPk=15043376 (공공데이터포털) - 사이트 점검으로 인해 작동이 불안정\n",
    "- 해외 COVID-19 일별 - https://www.data.go.kr/tcs/dss/selectApiDataDetailView.do?publicDataPk=15043379 (공공데이터포털) - 사이트 점검으로 인해 작동이 불안정"
   ]
  },
  {
   "cell_type": "markdown",
   "metadata": {},
   "source": [
    "4) 구현 내용 설명:\n",
    "\n",
    "데이터는 월별 혹은 일별로 통합하여 가공될 것이다. 사용자는 종류별로 월별 통계를 각각 또는 한번에 확인할 수있다. 꼭 월별이 아닌 여러 개월의 동시 조회(꺾은 선 그래프를 통한)도 가능케 구현할 것이다. 사용자는 표기하고 싶은 통계를 선택하여 그래프에 띄을 수 있다. 또한 전월의 통계를 통해 미래의 통계 추이를 예측한다. 사용자는 이 프로그램을 통하여 코로나 19과 대중교통 이용량의 상관관계를 시각적으로 파악할 수 있으며 미래의 현황을 예상할 수 있다."
   ]
  },
  {
   "cell_type": "markdown",
   "metadata": {},
   "source": [
    "8) 참고문헌:\n",
    "\n",
    "데이터 수집(계획):\n",
    "- 정부 3.0 공공 데이터: http://www.data.go.kr/\n",
    "- 서울시 열린 데이터 광장: http://data.seoul.go.kr/\n",
    "\n",
    "Open API 활용 방법:\n",
    "- 정부3.0 공공 데이터 포털 API 사용하기: https://ericnjennifer.github.io/python_crawling/2018/01/05/PythonCrawling_Chapt5.html\n",
    "- 오픈 API를 통한 공공데이터 수집: https://medium.com/@whj2013123218/%EC%98%A4%ED%94%88-api%EB%A5%BC-%ED%86%B5%ED%95%9C-%EA%B3%B5%EA%B3%B5%EB%8D%B0%EC%9D%B4%ED%84%B0-%EC%88%98%EC%A7%91-e1dd0ad203b6"
   ]
  },
  {
   "cell_type": "code",
   "execution_count": null,
   "metadata": {},
   "outputs": [],
   "source": []
  }
 ],
 "metadata": {
  "kernelspec": {
   "display_name": "Python 3",
   "language": "python",
   "name": "python3"
  },
  "language_info": {
   "codemirror_mode": {
    "name": "ipython",
    "version": 3
   },
   "file_extension": ".py",
   "mimetype": "text/x-python",
   "name": "python",
   "nbconvert_exporter": "python",
   "pygments_lexer": "ipython3",
   "version": "3.7.6"
  }
 },
 "nbformat": 4,
 "nbformat_minor": 4
}
